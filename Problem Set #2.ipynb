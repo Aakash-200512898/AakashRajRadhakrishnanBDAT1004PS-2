{
 "cells": [
  {
   "cell_type": "markdown",
   "id": "e0abef5f",
   "metadata": {},
   "source": [
    "***Problem 1***"
   ]
  },
  {
   "cell_type": "code",
   "execution_count": 1,
   "id": "482258ca",
   "metadata": {},
   "outputs": [
    {
     "name": "stdout",
     "output_type": "stream",
     "text": [
      "6\n"
     ]
    }
   ],
   "source": [
    "a = 0\n",
    "def b():\n",
    "    global a\n",
    "    a = c(a)\n",
    "def c(a):\n",
    "    return a + 2\n",
    "b()\n",
    "b()\n",
    "b()\n",
    "print(a)"
   ]
  },
  {
   "cell_type": "markdown",
   "id": "da8c6bc5",
   "metadata": {},
   "source": [
    "Explanation: \n",
    "1. b() is called for the first time:\n",
    "    Inside the function b(), a is declared as a global variable.\n",
    "    The value of a is passed to the function c(a) as an argument.\n",
    "    Inside the function c(a), the value of a (which is 0) is added with 2, resulting in 2.\n",
    "    The function c(a) returns the value 2.\n",
    "    The global variable a is updated to the returned value, which is 2.\n",
    "2. b() is called for the second time:\n",
    "    Inside the function b(), a is declared as a global variable.\n",
    "    The value of a (which is now 2) is passed to the function c(a) as an argument.\n",
    "    Inside the function c(a), the value of a (which is 2) is added with 2, resulting in 4.\n",
    "    The function c(a) returns the value 4.\n",
    "    The global variable a is updated to the returned value, which is 4.\n",
    "3. b() is called for the third time:\n",
    "    Inside the function b(), a is declared as a global variable.\n",
    "    The value of a (which is now 4) is passed to the function c(a) as an argument.\n",
    "    Inside the function c(a), the value of a (which is 4) is added with 2, resulting in 6.\n",
    "4. The function c(a) returns the value 6.\n",
    "    The global variable a is updated to the returned value, which is 6.\n",
    "    Finally, when a is evaluated, it references the global variable a that has been updated in each call to b(). The current value of a is 6, so that's the value displayed.\n",
    "    \n",
    "Therefore, the value displayed when the last expression a is evaluated is 6."
   ]
  },
  {
   "cell_type": "markdown",
   "id": "ba8d6549",
   "metadata": {},
   "source": [
    "***Problem 2***"
   ]
  },
  {
   "cell_type": "code",
   "execution_count": 10,
   "id": "357d0efb",
   "metadata": {},
   "outputs": [
    {
     "data": {
      "text/plain": [
       "123"
      ]
     },
     "execution_count": 10,
     "metadata": {},
     "output_type": "execute_result"
    }
   ],
   "source": [
    "def filelength(filename):\n",
    "    try:\n",
    "        infile = open(filename, \"r\")\n",
    "        contents = infile.read()\n",
    "        infile.close()\n",
    "        return len(contents)\n",
    "    except FileNotFoundError:\n",
    "        print(\"File\", filename, \"not found.\")\n",
    "\n",
    "filelength(\"filelength.txt\")"
   ]
  },
  {
   "cell_type": "code",
   "execution_count": 11,
   "id": "6d1f9654",
   "metadata": {},
   "outputs": [
    {
     "name": "stdout",
     "output_type": "stream",
     "text": [
      "File ilelength.txt not found.\n"
     ]
    }
   ],
   "source": [
    "filelength(\"ilelength.txt\")"
   ]
  },
  {
   "cell_type": "markdown",
   "id": "a8b4d697",
   "metadata": {},
   "source": [
    "***Problem 3***"
   ]
  },
  {
   "cell_type": "code",
   "execution_count": 16,
   "id": "12f4011c",
   "metadata": {},
   "outputs": [
    {
     "name": "stdout",
     "output_type": "stream",
     "text": [
      "['doll', 'firetruck', 'kitten']\n",
      "I am a Kangaroo located at coordinates (0,0)\n",
      "['doll', 'firetruck', 'kitten']\n",
      "I am a Kangaroo located at coordinates (3,0)\n",
      "I am a Kangaroo located at coordinates (7,5)\n"
     ]
    }
   ],
   "source": [
    "class Marsupial:\n",
    "    def __init__(self):\n",
    "        self.pouch = []\n",
    "\n",
    "    def put_in_pouch(self, item):\n",
    "        self.pouch.append(item)\n",
    "\n",
    "    def pouch_contents(self):\n",
    "        return self.pouch\n",
    "\n",
    "\n",
    "class Kangaroo(Marsupial):\n",
    "    def __init__(self, x, y):\n",
    "        super().__init__()\n",
    "        self.x = x\n",
    "        self.y = y\n",
    "\n",
    "    def jump(self, dx, dy):\n",
    "        self.x += dx\n",
    "        self.y += dy\n",
    "\n",
    "    def __str__(self):\n",
    "        return f\"I am a Kangaroo located at coordinates ({self.x},{self.y})\"\n",
    "\n",
    "\n",
    "m = Marsupial()\n",
    "m.put_in_pouch('doll')\n",
    "m.put_in_pouch('firetruck')\n",
    "m.put_in_pouch('kitten')\n",
    "print(m.pouch_contents())\n",
    "\n",
    "k = Kangaroo(0, 0)\n",
    "print(k)\n",
    "k.put_in_pouch('doll')\n",
    "k.put_in_pouch('firetruck')\n",
    "k.put_in_pouch('kitten')\n",
    "print(k.pouch_contents())\n",
    "\n",
    "k.jump(1, 0)\n",
    "k.jump(1, 0)\n",
    "k.jump(1, 0)\n",
    "print(k)\n",
    "\n",
    "#Additional\n",
    "\n",
    "k.jump(0,1)\n",
    "k.jump(1,0)\n",
    "k.jump(3,4)\n",
    "print(k)"
   ]
  },
  {
   "cell_type": "markdown",
   "id": "2c6bad40",
   "metadata": {},
   "source": [
    "***Problem 4***"
   ]
  },
  {
   "cell_type": "code",
   "execution_count": 17,
   "id": "df6cb544",
   "metadata": {},
   "outputs": [
    {
     "name": "stdout",
     "output_type": "stream",
     "text": [
      "1\n"
     ]
    }
   ],
   "source": [
    "def collatz(x):\n",
    "    print(x)\n",
    "    if x == 1:\n",
    "        return\n",
    "    elif x % 2 == 0:\n",
    "        collatz(x // 2)\n",
    "    else:\n",
    "        collatz(3 * x + 1)\n",
    "collatz(1)"
   ]
  },
  {
   "cell_type": "code",
   "execution_count": 18,
   "id": "403da960",
   "metadata": {},
   "outputs": [
    {
     "name": "stdout",
     "output_type": "stream",
     "text": [
      "10\n",
      "5\n",
      "16\n",
      "8\n",
      "4\n",
      "2\n",
      "1\n"
     ]
    }
   ],
   "source": [
    "collatz(10)"
   ]
  },
  {
   "cell_type": "code",
   "execution_count": 19,
   "id": "e407b691",
   "metadata": {},
   "outputs": [
    {
     "name": "stdout",
     "output_type": "stream",
     "text": [
      "15\n",
      "46\n",
      "23\n",
      "70\n",
      "35\n",
      "106\n",
      "53\n",
      "160\n",
      "80\n",
      "40\n",
      "20\n",
      "10\n",
      "5\n",
      "16\n",
      "8\n",
      "4\n",
      "2\n",
      "1\n"
     ]
    }
   ],
   "source": [
    "collatz(15)"
   ]
  },
  {
   "cell_type": "markdown",
   "id": "552bd1dd",
   "metadata": {},
   "source": [
    "***Problem 5***"
   ]
  },
  {
   "cell_type": "code",
   "execution_count": 23,
   "id": "7797a94f",
   "metadata": {},
   "outputs": [
    {
     "name": "stdout",
     "output_type": "stream",
     "text": [
      "0"
     ]
    }
   ],
   "source": [
    "def binary(n):\n",
    "    if n == 0:\n",
    "        print(0, end='')\n",
    "    elif n == 1:\n",
    "        print(1, end='')\n",
    "    else:\n",
    "        binary(n // 2)\n",
    "        print(n % 2, end='')\n",
    "binary(0)"
   ]
  },
  {
   "cell_type": "code",
   "execution_count": 24,
   "id": "2a7beb1f",
   "metadata": {},
   "outputs": [
    {
     "name": "stdout",
     "output_type": "stream",
     "text": [
      "1"
     ]
    }
   ],
   "source": [
    "binary(1)"
   ]
  },
  {
   "cell_type": "code",
   "execution_count": 26,
   "id": "4e833fa4",
   "metadata": {},
   "outputs": [
    {
     "name": "stdout",
     "output_type": "stream",
     "text": [
      "11"
     ]
    }
   ],
   "source": [
    "binary(3)"
   ]
  },
  {
   "cell_type": "code",
   "execution_count": 27,
   "id": "9fcdd6fb",
   "metadata": {},
   "outputs": [
    {
     "name": "stdout",
     "output_type": "stream",
     "text": [
      "1001"
     ]
    }
   ],
   "source": [
    "binary(9)"
   ]
  },
  {
   "cell_type": "code",
   "execution_count": 25,
   "id": "7a8ea4df",
   "metadata": {},
   "outputs": [
    {
     "name": "stdout",
     "output_type": "stream",
     "text": [
      "10101"
     ]
    }
   ],
   "source": [
    "binary(21)"
   ]
  },
  {
   "cell_type": "markdown",
   "id": "4ff2e2b3",
   "metadata": {},
   "source": [
    "***Problem 6***"
   ]
  },
  {
   "cell_type": "code",
   "execution_count": 38,
   "id": "2b580778",
   "metadata": {},
   "outputs": [
    {
     "name": "stdout",
     "output_type": "stream",
     "text": [
      "Change_me\n",
      "W3C Mission\n",
      " Principles\n",
      " \n"
     ]
    }
   ],
   "source": [
    "from html.parser import HTMLParser\n",
    "\n",
    "class HeadingParser(HTMLParser):\n",
    "    def __init__(self):\n",
    "        super().__init__()\n",
    "        self.headings = []\n",
    "        self.current_heading = ''\n",
    "        self.indentation_level = 0\n",
    "\n",
    "    def handle_starttag(self, tag, attrs):\n",
    "        tag = tag.lower()  # Convert tag name to lowercase\n",
    "        if tag.startswith('h'):\n",
    "            try:\n",
    "                self.indentation_level = int(tag[1:]) - 1\n",
    "            except ValueError:\n",
    "                pass\n",
    "\n",
    "    def handle_data(self, data):\n",
    "        if data.strip():\n",
    "            self.current_heading = data.strip()\n",
    "\n",
    "    def handle_endtag(self, tag):\n",
    "        tag = tag.lower()  # Convert tag name to lowercase\n",
    "        if tag.startswith('h'):\n",
    "            self.headings.append((self.current_heading, self.indentation_level))\n",
    "            self.current_heading = ''\n",
    "\n",
    "    def print_headings(self):\n",
    "        for heading, indentation in self.headings:\n",
    "            print(' ' * indentation + heading)\n",
    "\n",
    "\n",
    "# Testing the HeadingParser class\n",
    "with open('w3c.html') as file:\n",
    "    html_content = file.read()\n",
    "\n",
    "hp = HeadingParser()\n",
    "hp.feed(html_content)\n",
    "hp.print_headings()\n"
   ]
  },
  {
   "cell_type": "markdown",
   "id": "63f0688c",
   "metadata": {},
   "source": [
    "***Note : Change_me appears because of the title tag which is also considered as heading***"
   ]
  },
  {
   "cell_type": "markdown",
   "id": "f953b0d7",
   "metadata": {},
   "source": [
    "***Problem 7***"
   ]
  },
  {
   "cell_type": "code",
   "execution_count": 46,
   "id": "4f02e216",
   "metadata": {},
   "outputs": [
    {
     "name": "stdout",
     "output_type": "stream",
     "text": [
      "http://reed.cs.depaul.edu/lperkovic/csc242/test1.html\n"
     ]
    },
    {
     "ename": "NameError",
     "evalue": "name 'HTTPError' is not defined",
     "output_type": "error",
     "traceback": [
      "\u001b[1;31m---------------------------------------------------------------------------\u001b[0m",
      "\u001b[1;31mHTTPError\u001b[0m                                 Traceback (most recent call last)",
      "Cell \u001b[1;32mIn[46], line 6\u001b[0m, in \u001b[0;36mwebdir\u001b[1;34m(url, depth, indent)\u001b[0m\n\u001b[0;32m      5\u001b[0m \u001b[38;5;28;01mtry\u001b[39;00m:\n\u001b[1;32m----> 6\u001b[0m     response \u001b[38;5;241m=\u001b[39m \u001b[43murlopen\u001b[49m\u001b[43m(\u001b[49m\u001b[43murl\u001b[49m\u001b[43m)\u001b[49m\n\u001b[0;32m      7\u001b[0m     html_content \u001b[38;5;241m=\u001b[39m response\u001b[38;5;241m.\u001b[39mread()\u001b[38;5;241m.\u001b[39mdecode(\u001b[38;5;124m'\u001b[39m\u001b[38;5;124mutf-8\u001b[39m\u001b[38;5;124m'\u001b[39m)\n",
      "File \u001b[1;32m~\\anaconda3\\lib\\urllib\\request.py:216\u001b[0m, in \u001b[0;36murlopen\u001b[1;34m(url, data, timeout, cafile, capath, cadefault, context)\u001b[0m\n\u001b[0;32m    215\u001b[0m     opener \u001b[38;5;241m=\u001b[39m _opener\n\u001b[1;32m--> 216\u001b[0m \u001b[38;5;28;01mreturn\u001b[39;00m \u001b[43mopener\u001b[49m\u001b[38;5;241;43m.\u001b[39;49m\u001b[43mopen\u001b[49m\u001b[43m(\u001b[49m\u001b[43murl\u001b[49m\u001b[43m,\u001b[49m\u001b[43m \u001b[49m\u001b[43mdata\u001b[49m\u001b[43m,\u001b[49m\u001b[43m \u001b[49m\u001b[43mtimeout\u001b[49m\u001b[43m)\u001b[49m\n",
      "File \u001b[1;32m~\\anaconda3\\lib\\urllib\\request.py:525\u001b[0m, in \u001b[0;36mOpenerDirector.open\u001b[1;34m(self, fullurl, data, timeout)\u001b[0m\n\u001b[0;32m    524\u001b[0m     meth \u001b[38;5;241m=\u001b[39m \u001b[38;5;28mgetattr\u001b[39m(processor, meth_name)\n\u001b[1;32m--> 525\u001b[0m     response \u001b[38;5;241m=\u001b[39m \u001b[43mmeth\u001b[49m\u001b[43m(\u001b[49m\u001b[43mreq\u001b[49m\u001b[43m,\u001b[49m\u001b[43m \u001b[49m\u001b[43mresponse\u001b[49m\u001b[43m)\u001b[49m\n\u001b[0;32m    527\u001b[0m \u001b[38;5;28;01mreturn\u001b[39;00m response\n",
      "File \u001b[1;32m~\\anaconda3\\lib\\urllib\\request.py:634\u001b[0m, in \u001b[0;36mHTTPErrorProcessor.http_response\u001b[1;34m(self, request, response)\u001b[0m\n\u001b[0;32m    633\u001b[0m \u001b[38;5;28;01mif\u001b[39;00m \u001b[38;5;129;01mnot\u001b[39;00m (\u001b[38;5;241m200\u001b[39m \u001b[38;5;241m<\u001b[39m\u001b[38;5;241m=\u001b[39m code \u001b[38;5;241m<\u001b[39m \u001b[38;5;241m300\u001b[39m):\n\u001b[1;32m--> 634\u001b[0m     response \u001b[38;5;241m=\u001b[39m \u001b[38;5;28;43mself\u001b[39;49m\u001b[38;5;241;43m.\u001b[39;49m\u001b[43mparent\u001b[49m\u001b[38;5;241;43m.\u001b[39;49m\u001b[43merror\u001b[49m\u001b[43m(\u001b[49m\n\u001b[0;32m    635\u001b[0m \u001b[43m        \u001b[49m\u001b[38;5;124;43m'\u001b[39;49m\u001b[38;5;124;43mhttp\u001b[39;49m\u001b[38;5;124;43m'\u001b[39;49m\u001b[43m,\u001b[49m\u001b[43m \u001b[49m\u001b[43mrequest\u001b[49m\u001b[43m,\u001b[49m\u001b[43m \u001b[49m\u001b[43mresponse\u001b[49m\u001b[43m,\u001b[49m\u001b[43m \u001b[49m\u001b[43mcode\u001b[49m\u001b[43m,\u001b[49m\u001b[43m \u001b[49m\u001b[43mmsg\u001b[49m\u001b[43m,\u001b[49m\u001b[43m \u001b[49m\u001b[43mhdrs\u001b[49m\u001b[43m)\u001b[49m\n\u001b[0;32m    637\u001b[0m \u001b[38;5;28;01mreturn\u001b[39;00m response\n",
      "File \u001b[1;32m~\\anaconda3\\lib\\urllib\\request.py:563\u001b[0m, in \u001b[0;36mOpenerDirector.error\u001b[1;34m(self, proto, *args)\u001b[0m\n\u001b[0;32m    562\u001b[0m args \u001b[38;5;241m=\u001b[39m (\u001b[38;5;28mdict\u001b[39m, \u001b[38;5;124m'\u001b[39m\u001b[38;5;124mdefault\u001b[39m\u001b[38;5;124m'\u001b[39m, \u001b[38;5;124m'\u001b[39m\u001b[38;5;124mhttp_error_default\u001b[39m\u001b[38;5;124m'\u001b[39m) \u001b[38;5;241m+\u001b[39m orig_args\n\u001b[1;32m--> 563\u001b[0m \u001b[38;5;28;01mreturn\u001b[39;00m \u001b[38;5;28;43mself\u001b[39;49m\u001b[38;5;241;43m.\u001b[39;49m\u001b[43m_call_chain\u001b[49m\u001b[43m(\u001b[49m\u001b[38;5;241;43m*\u001b[39;49m\u001b[43margs\u001b[49m\u001b[43m)\u001b[49m\n",
      "File \u001b[1;32m~\\anaconda3\\lib\\urllib\\request.py:496\u001b[0m, in \u001b[0;36mOpenerDirector._call_chain\u001b[1;34m(self, chain, kind, meth_name, *args)\u001b[0m\n\u001b[0;32m    495\u001b[0m func \u001b[38;5;241m=\u001b[39m \u001b[38;5;28mgetattr\u001b[39m(handler, meth_name)\n\u001b[1;32m--> 496\u001b[0m result \u001b[38;5;241m=\u001b[39m \u001b[43mfunc\u001b[49m\u001b[43m(\u001b[49m\u001b[38;5;241;43m*\u001b[39;49m\u001b[43margs\u001b[49m\u001b[43m)\u001b[49m\n\u001b[0;32m    497\u001b[0m \u001b[38;5;28;01mif\u001b[39;00m result \u001b[38;5;129;01mis\u001b[39;00m \u001b[38;5;129;01mnot\u001b[39;00m \u001b[38;5;28;01mNone\u001b[39;00m:\n",
      "File \u001b[1;32m~\\anaconda3\\lib\\urllib\\request.py:643\u001b[0m, in \u001b[0;36mHTTPDefaultErrorHandler.http_error_default\u001b[1;34m(self, req, fp, code, msg, hdrs)\u001b[0m\n\u001b[0;32m    642\u001b[0m \u001b[38;5;28;01mdef\u001b[39;00m \u001b[38;5;21mhttp_error_default\u001b[39m(\u001b[38;5;28mself\u001b[39m, req, fp, code, msg, hdrs):\n\u001b[1;32m--> 643\u001b[0m     \u001b[38;5;28;01mraise\u001b[39;00m HTTPError(req\u001b[38;5;241m.\u001b[39mfull_url, code, msg, hdrs, fp)\n",
      "\u001b[1;31mHTTPError\u001b[0m: HTTP Error 404: ",
      "\nDuring handling of the above exception, another exception occurred:\n",
      "\u001b[1;31mNameError\u001b[0m                                 Traceback (most recent call last)",
      "Cell \u001b[1;32mIn[46], line 19\u001b[0m\n\u001b[0;32m     16\u001b[0m         \u001b[38;5;28mprint\u001b[39m(\u001b[38;5;124m'\u001b[39m\u001b[38;5;124mError:\u001b[39m\u001b[38;5;124m'\u001b[39m, e)\n\u001b[0;32m     18\u001b[0m \u001b[38;5;66;03m# Testing the webdir() function\u001b[39;00m\n\u001b[1;32m---> 19\u001b[0m \u001b[43mwebdir\u001b[49m\u001b[43m(\u001b[49m\u001b[38;5;124;43m'\u001b[39;49m\u001b[38;5;124;43mhttp://reed.cs.depaul.edu/lperkovic/csc242/test1.html\u001b[39;49m\u001b[38;5;124;43m'\u001b[39;49m\u001b[43m,\u001b[49m\u001b[43m \u001b[49m\u001b[38;5;241;43m2\u001b[39;49m\u001b[43m,\u001b[49m\u001b[43m \u001b[49m\u001b[38;5;241;43m0\u001b[39;49m\u001b[43m)\u001b[49m\n",
      "Cell \u001b[1;32mIn[46], line 15\u001b[0m, in \u001b[0;36mwebdir\u001b[1;34m(url, depth, indent)\u001b[0m\n\u001b[0;32m     13\u001b[0m         \u001b[38;5;28;01mif\u001b[39;00m href \u001b[38;5;129;01mand\u001b[39;00m href\u001b[38;5;241m.\u001b[39mstartswith(\u001b[38;5;124m'\u001b[39m\u001b[38;5;124mhttp\u001b[39m\u001b[38;5;124m'\u001b[39m):\n\u001b[0;32m     14\u001b[0m             webdir(href, depth \u001b[38;5;241m-\u001b[39m \u001b[38;5;241m1\u001b[39m, indent \u001b[38;5;241m+\u001b[39m \u001b[38;5;241m4\u001b[39m)\n\u001b[1;32m---> 15\u001b[0m \u001b[38;5;28;01mexcept\u001b[39;00m \u001b[43mHTTPError\u001b[49m \u001b[38;5;28;01mas\u001b[39;00m e:\n\u001b[0;32m     16\u001b[0m     \u001b[38;5;28mprint\u001b[39m(\u001b[38;5;124m'\u001b[39m\u001b[38;5;124mError:\u001b[39m\u001b[38;5;124m'\u001b[39m, e)\n",
      "\u001b[1;31mNameError\u001b[0m: name 'HTTPError' is not defined"
     ]
    }
   ],
   "source": [
    "def webdir(url, depth, indent):\n",
    "    print(' ' * indent + url)\n",
    "    if depth == 0:\n",
    "        return\n",
    "    try:\n",
    "        response = urlopen(url)\n",
    "        html_content = response.read().decode('utf-8')\n",
    "        response.close()\n",
    "        soup = BeautifulSoup(html_content, 'html.parser')\n",
    "        links = soup.find_all('a')\n",
    "        for link in links:\n",
    "            href = link.get('href')\n",
    "            if href and href.startswith('http'):\n",
    "                webdir(href, depth - 1, indent + 4)\n",
    "    except HTTPError as e:\n",
    "        print('Error:', e)\n",
    "\n",
    "# Testing the webdir() function\n",
    "webdir('http://reed.cs.depaul.edu/lperkovic/csc242/test1.html', 2, 0)\n"
   ]
  },
  {
   "cell_type": "markdown",
   "id": "07911444",
   "metadata": {},
   "source": [
    "***Note : The given URL shows HTTP Error 404:***"
   ]
  },
  {
   "cell_type": "code",
   "execution_count": 47,
   "id": "bd74257a",
   "metadata": {},
   "outputs": [
    {
     "name": "stdout",
     "output_type": "stream",
     "text": [
      "http://example.com/\n",
      "    https://www.iana.org/domains/example\n",
      "        http://www.icann.org/topics/idn/\n",
      "        http://www.icann.org/\n",
      "        http://www.icann.org/en/registries/agreements.htm\n",
      "        http://pti.icann.org\n",
      "        http://www.icann.org/\n",
      "        https://www.icann.org/privacy/policy\n",
      "        https://www.icann.org/privacy/tos\n"
     ]
    }
   ],
   "source": [
    "webdir('http://example.com/', 2, 0)"
   ]
  },
  {
   "cell_type": "markdown",
   "id": "43b83150",
   "metadata": {},
   "source": [
    "***Note : I used an example domain to test the code***"
   ]
  },
  {
   "cell_type": "markdown",
   "id": "b5ebf7a2",
   "metadata": {},
   "source": [
    "-------------------------------------------------------------------------------------------------------------------"
   ]
  },
  {
   "cell_type": "markdown",
   "id": "bd2e442b",
   "metadata": {},
   "source": [
    "***Problem 8 - SQL***"
   ]
  },
  {
   "cell_type": "markdown",
   "id": "5bf68e06",
   "metadata": {},
   "source": [
    "a) All the temperature data:\n",
    "\n",
    "***SELECT Temperature FROM table_rainfall;***\n",
    "\n",
    "b) All the cities, but without repetition:\n",
    "\n",
    "***SELECT DISTINCT City FROM table_rainfall;***\n",
    "\n",
    "c) All the records for India:\n",
    "\n",
    "***SELECT * FROM table_rainfall WHERE Country = 'India';***\n",
    "\n",
    "d) All the Fall records:\n",
    "\n",
    "***SELECT * FROM table_rainfall WHERE Season = 'Fall';***\n",
    "\n",
    "e) The city, country, and season for which the average rainfall is between 200 and 400 millimeters:\n",
    "\n",
    "***SELECT City, Country, Season FROM table_rainfall***\n",
    "\n",
    "***WHERE Rainfall BETWEEN 200 AND 400;***\n",
    "\n",
    "f) The city and country for which the average Fall temperature is above 20 degrees, in increasing temperature order:\n",
    "\n",
    "***SELECT City, Country FROM table_rainfall***\n",
    "\n",
    "***WHERE Season = 'Fall' AND Temperature > 20***\n",
    "\n",
    "***ORDER BY Temperature ASC;***\n",
    "\n",
    "g) The total annual rainfall for Cairo:\n",
    "\n",
    "***SELECT SUM(Rainfall) AS Total_Rainfall FROM table_rainfall***\n",
    "\n",
    "***WHERE City = 'Cairo';***\n",
    "\n",
    "h) The total rainfall for each season:\n",
    "\n",
    "***SELECT Season, SUM(Rainfall) AS Total_Rainfall FROM table_rainfall***\n",
    "\n",
    "***GROUP BY Season;***"
   ]
  },
  {
   "cell_type": "markdown",
   "id": "1943f219",
   "metadata": {},
   "source": [
    "-------------------------------------------------------------------------------------------------------------------"
   ]
  },
  {
   "cell_type": "markdown",
   "id": "9e20728c",
   "metadata": {},
   "source": [
    "***Problem 9***"
   ]
  },
  {
   "cell_type": "code",
   "execution_count": 48,
   "id": "04486f1d",
   "metadata": {},
   "outputs": [],
   "source": [
    "words = ['The', 'quick', 'brown', 'fox', 'jumps', 'over','the', 'lazy', 'dog']"
   ]
  },
  {
   "cell_type": "code",
   "execution_count": 51,
   "id": "44e5d04a",
   "metadata": {},
   "outputs": [
    {
     "name": "stdout",
     "output_type": "stream",
     "text": [
      "['THE', 'QUICK', 'BROWN', 'FOX', 'JUMPS', 'OVER', 'THE', 'LAZY', 'DOG']\n"
     ]
    }
   ],
   "source": [
    "uppercase = [word.upper() for word in words]\n",
    "print(uppercase)"
   ]
  },
  {
   "cell_type": "code",
   "execution_count": 52,
   "id": "f168137a",
   "metadata": {},
   "outputs": [
    {
     "name": "stdout",
     "output_type": "stream",
     "text": [
      "['the', 'quick', 'brown', 'fox', 'jumps', 'over', 'the', 'lazy', 'dog']\n"
     ]
    }
   ],
   "source": [
    "lowercase = [word.lower() for word in words]\n",
    "print(lowercase)"
   ]
  },
  {
   "cell_type": "code",
   "execution_count": 53,
   "id": "03f73aba",
   "metadata": {},
   "outputs": [
    {
     "name": "stdout",
     "output_type": "stream",
     "text": [
      "[3, 5, 5, 3, 5, 4, 3, 4, 3]\n"
     ]
    }
   ],
   "source": [
    "word_lengths = [len(word) for word in words]\n",
    "print(word_lengths)"
   ]
  },
  {
   "cell_type": "code",
   "execution_count": 54,
   "id": "74b6a768",
   "metadata": {},
   "outputs": [
    {
     "name": "stdout",
     "output_type": "stream",
     "text": [
      "[['THE', 'the', 3], ['QUICK', 'quick', 5], ['BROWN', 'brown', 5], ['FOX', 'fox', 3], ['JUMPS', 'jumps', 5], ['OVER', 'over', 4], ['THE', 'the', 3], ['LAZY', 'lazy', 4], ['DOG', 'dog', 3]]\n"
     ]
    }
   ],
   "source": [
    "word_info = [[word.upper(), word.lower(), len(word)] for word in words]\n",
    "print(word_info)"
   ]
  },
  {
   "cell_type": "code",
   "execution_count": 55,
   "id": "cce66bca",
   "metadata": {},
   "outputs": [
    {
     "name": "stdout",
     "output_type": "stream",
     "text": [
      "['quick', 'brown', 'jumps', 'over', 'lazy']\n"
     ]
    }
   ],
   "source": [
    "long_words = [word for word in words if len(word) >= 4]\n",
    "print(long_words)"
   ]
  }
 ],
 "metadata": {
  "kernelspec": {
   "display_name": "Python 3 (ipykernel)",
   "language": "python",
   "name": "python3"
  },
  "language_info": {
   "codemirror_mode": {
    "name": "ipython",
    "version": 3
   },
   "file_extension": ".py",
   "mimetype": "text/x-python",
   "name": "python",
   "nbconvert_exporter": "python",
   "pygments_lexer": "ipython3",
   "version": "3.10.9"
  }
 },
 "nbformat": 4,
 "nbformat_minor": 5
}
